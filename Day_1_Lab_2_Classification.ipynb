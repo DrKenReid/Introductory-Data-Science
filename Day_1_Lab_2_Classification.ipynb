{
  "nbformat": 4,
  "nbformat_minor": 0,
  "metadata": {
    "colab": {
      "provenance": [],
      "include_colab_link": true
    },
    "kernelspec": {
      "name": "python3",
      "display_name": "Python 3"
    },
    "language_info": {
      "name": "python"
    }
  },
  "cells": [
    {
      "cell_type": "markdown",
      "metadata": {
        "id": "view-in-github",
        "colab_type": "text"
      },
      "source": [
        "<a href=\"https://colab.research.google.com/github/DrKenReid/Introductory-Data-Science/blob/main/Day_1_Lab_2_Classification.ipynb\" target=\"_parent\"><img src=\"https://colab.research.google.com/assets/colab-badge.svg\" alt=\"Open In Colab\"/></a>"
      ]
    },
    {
      "cell_type": "markdown",
      "source": [
        "## Problem Description/Dataset:\n",
        "The “Breast Cancer Wisconsin (Diagnostic)” dataset is publicly available and can be loaded directly from the Scikit-learn library. The dataset contains 569 instances, each with 30 features and a binary target variable indicating whether the tumor is benign (0) or malignant (1). The features include various measurements and characteristics of the cell nuclei present in the digitized images.\n",
        "\n",
        "## Key Features:\n",
        "*   radius (mean of distances from center to points on the perimeter)\n",
        "*   texture (standard deviation of gray-scale values)\n",
        "*   perimeter\n",
        "*   area\n",
        "*   smoothness (local variation in radius lengths)\n",
        "*   compactness (perimeter^2 / area - 1.0)\n",
        "*   concavity (severity of concave portions of the contour)\n",
        "*   concave points (number of concave portions of the contour)\n",
        "*   symmetry\n",
        "*   fractal dimension (“coastline approximation” - 1)"
      ],
      "metadata": {
        "id": "9mjezoD7akon"
      }
    },
    {
      "cell_type": "code",
      "execution_count": 10,
      "metadata": {
        "id": "glKWjxiikphu"
      },
      "outputs": [],
      "source": [
        "# Import necessary libraries\n",
        "from sklearn.datasets import load_breast_cancer\n",
        "from sklearn.model_selection import train_test_split, GridSearchCV\n",
        "from sklearn.preprocessing import StandardScaler\n",
        "from sklearn.linear_model import LogisticRegression\n",
        "from sklearn.tree import DecisionTreeClassifier\n",
        "from sklearn.ensemble import RandomForestClassifier\n",
        "from sklearn.svm import SVC\n",
        "from sklearn.metrics import accuracy_score, precision_score, recall_score, f1_score, roc_auc_score\n",
        "import matplotlib.pyplot as plt\n",
        "import seaborn as sns\n",
        "import pandas as pd\n"
      ]
    },
    {
      "cell_type": "code",
      "source": [
        "# Load the Breast Cancer Wisconsin (Diagnostic) dataset\n",
        "data = load_breast_cancer()\n",
        "X = data.data\n",
        "y = data.target"
      ],
      "metadata": {
        "id": "s1GWvrS7kuyE"
      },
      "execution_count": 11,
      "outputs": []
    },
    {
      "cell_type": "markdown",
      "source": [
        "\n",
        "The number 42 is often chosen as the random seed in examples and tutorials because it is a reference to \"[The Hitchhiker's Guide to the Galaxy](https://en.wikipedia.org/wiki/Phrases_from_The_Hitchhiker%27s_Guide_to_the_Galaxy#Answer_to_the_Ultimate_Question_of_Life,_the_Universe,_and_Everything_(42))\" by Douglas Adams, where 42 is humorously described as \"the answer to the ultimate question of life, the universe, and everything.\" It has since become a popular, whimsical choice for a random seed in many coding contexts."
      ],
      "metadata": {
        "id": "n1aKMhgBVnpE"
      }
    },
    {
      "cell_type": "code",
      "source": [
        "# Split the data into training and testing sets\n",
        "X_train, X_test, y_train, y_test = train_test_split(X, y, test_size=0.2, random_state=42)\n"
      ],
      "metadata": {
        "id": "BreScQ41kvwL"
      },
      "execution_count": 12,
      "outputs": []
    },
    {
      "cell_type": "code",
      "source": [
        "# Scale the features using StandardScaler\n",
        "scaler = StandardScaler()\n",
        "X_train_scaled = scaler.fit_transform(X_train)\n",
        "X_test_scaled = scaler.transform(X_test)\n"
      ],
      "metadata": {
        "id": "oWS-q476kw67"
      },
      "execution_count": 13,
      "outputs": []
    },
    {
      "cell_type": "markdown",
      "source": [
        "## Logistic Regression\n",
        "\n",
        "**Description:**  \n",
        "Logistic regression is a statistical method used for binary classification. It models the probability of a binary outcome using a logistic function. The output of logistic regression is a probability value that can be mapped to two distinct classes. It is especially useful for understanding the relationship between a dependent binary variable and one or more independent variables by fitting data to a logistic curve.\n",
        "\n",
        "**Question:** What is logistic regression used for?  \n",
        "**Answer:** Binary classification.\n",
        "\n",
        "**Question:** How does logistic regression model probabilities?  \n",
        "**Answer:** Using a logistic function.\n",
        "\n",
        "**Question:** What is the output of logistic regression?  \n",
        "**Answer:** A probability value.\n",
        "\n",
        "**Question:** Can logistic regression handle multiple independent variables?  \n",
        "**Answer:** Yes.\n",
        "\n",
        "**Question:** What kind of relationship does logistic regression help understand?  \n",
        "**Answer:** The relationship between a dependent binary variable and independent variables.\n",
        "\n",
        "## Decision Tree\n",
        "\n",
        "**Description:**  \n",
        "A decision tree is a non-parametric supervised learning method used for both classification and regression tasks. It splits the dataset into subsets based on the most significant attribute at each node, creating a tree-like model of decisions. The model predicts the target value by learning simple decision rules inferred from the data features. Decision trees are easy to interpret and visualize but can be prone to overfitting.\n",
        "\n",
        "**Question:** What type of learning method is a decision tree?  \n",
        "**Answer:** Non-parametric supervised learning.\n",
        "\n",
        "**Question:** What tasks can decision trees be used for?  \n",
        "**Answer:** Classification and regression.\n",
        "\n",
        "**Question:** How does a decision tree make predictions?  \n",
        "**Answer:** By learning simple decision rules from data features.\n",
        "\n",
        "**Question:** Are decision trees easy to interpret?  \n",
        "**Answer:** Yes.\n",
        "\n",
        "**Question:** What is a common issue with decision trees?  \n",
        "**Answer:** Overfitting.\n",
        "\n",
        "## Random Forest\n",
        "\n",
        "**Description:**  \n",
        "Random forest is an ensemble learning method used for classification, regression, and other tasks. It operates by constructing multiple decision trees during training and outputting the mode of the classes (classification) or mean prediction (regression) of the individual trees. Random forests correct the habit of decision trees to overfit to their training set by averaging multiple decision trees trained on different parts of the same dataset.\n",
        "\n",
        "**Question:** What type of method is a random forest?  \n",
        "**Answer:** Ensemble learning method.\n",
        "\n",
        "**Question:** How does random forest operate?  \n",
        "**Answer:** By constructing multiple decision trees.\n",
        "\n",
        "**Question:** What is the output of a random forest for classification?  \n",
        "**Answer:** The mode of the classes.\n",
        "\n",
        "**Question:** How does random forest handle overfitting?  \n",
        "**Answer:** By averaging multiple decision trees.\n",
        "\n",
        "**Question:** What tasks can random forest be used for?  \n",
        "**Answer:** Classification and regression.\n",
        "\n",
        "## Support Vector Machine (SVM)\n",
        "\n",
        "**Description:**  \n",
        "Support Vector Machine (SVM) is a supervised machine learning algorithm that can be used for both classification and regression challenges. It works by finding the hyperplane that best divides a dataset into classes. SVM aims to maximize the margin between the data points of different classes, which helps in achieving better generalization. The kernel trick allows SVM to solve non-linear classification problems by mapping data into higher dimensions where a hyperplane can be used to separate the classes.\n",
        "\n",
        "**Question:** What can SVM be used for?  \n",
        "**Answer:** Classification and regression.\n",
        "\n",
        "**Question:** How does SVM find the best hyperplane?  \n",
        "**Answer:** By maximizing the margin between data points of different classes.\n",
        "\n",
        "**Question:** What is the purpose of the kernel trick in SVM?  \n",
        "**Answer:** To solve non-linear classification problems.\n",
        "\n",
        "**Question:** What does SVM aim to achieve?  \n",
        "**Answer:** Better generalization.\n",
        "\n",
        "**Question:** What does SVM use to separate classes in higher dimensions?  \n",
        "**Answer:** A hyperplane."
      ],
      "metadata": {
        "id": "WxgkJY_ydigH"
      }
    },
    {
      "cell_type": "code",
      "source": [
        "## logistic regression parameters\n",
        "# [the following penalties will be introduced in more detail in lab3]:\n",
        "# L1 penalty: lasso (feature elimination); L2 penalty: ridge (handling multicollinearity; reducing overfitting)\n",
        "lr_params = {'C': [0.1, 1, 10], 'penalty': ['l1', 'l2'], 'solver': ['liblinear']}\n",
        "\n",
        "## decision tree parameters\n",
        "# max_depth: maximum depth of the tree, which leads to simple or complex models\n",
        "# min_samples_split: the minimum number of samples required in a node to be considered for splitting\n",
        "dt_params = {'max_depth': [3, 5, 7], 'min_samples_split': [2, 5, 10]}\n",
        "\n",
        "## random forest parameters\n",
        "# n_estimators: the number of trees in the forest; larger value leads to a more accurate model\n",
        "# max_depth: number of splits for each decision tree in the forest\n",
        "rf_params = {'n_estimators': [50, 100, 200], 'max_depth': [3, 5, 7]}\n",
        "\n",
        "## support vector machine parameters\n",
        "# C: regularization parameter, which controls overfitting; larger value leads to high variance and low bias\n",
        "# kernel: transforms the input data into a higher dimensional space\n",
        "svc_params = {'C': [0.1, 1, 10], 'kernel': ['linear', 'rbf']}"
      ],
      "metadata": {
        "id": "F_O9gQwCk34p"
      },
      "execution_count": 14,
      "outputs": []
    },
    {
      "cell_type": "markdown",
      "source": [
        "### Hyperparameter tuning\n",
        "\n",
        "**Description:**  \n",
        "Hyperparameter tuning is the process of selecting the optimal set of hyperparameters for a machine learning model. Hyperparameters are the external parameters that govern the training process and model architecture, such as learning rate, number of trees in a random forest, or the regularization parameter in logistic regression. Tuning these parameters helps improve the model's performance by finding the best combination that minimizes the loss function and maximizes predictive accuracy.\n",
        "\n",
        "## Questions and Answers\n",
        "\n",
        "**Question:** What are hyperparameters?  \n",
        "**Answer:** External parameters that govern the training process and model architecture.\n",
        "\n",
        "**Question:** Why is hyperparameter tuning important?  \n",
        "**Answer:** To improve model performance.\n",
        "\n",
        "**Question:** Give an example of a hyperparameter.  \n",
        "**Answer:** Learning rate.\n",
        "\n",
        "**Question:** How does hyperparameter tuning affect model accuracy?  \n",
        "**Answer:** It finds the best combination of hyperparameters to maximize predictive accuracy.\n",
        "\n",
        "**Question:** What method can be used for hyperparameter tuning?  \n",
        "**Answer:** Grid search or random search."
      ],
      "metadata": {
        "id": "kJvgynU2dlzd"
      }
    },
    {
      "cell_type": "code",
      "source": [
        "# Create a dictionary to store the models and their hyperparameter grids\n",
        "models = {\n",
        "    'Logistic Regression': (LogisticRegression(random_state=42), lr_params),\n",
        "    'Decision Tree': (DecisionTreeClassifier(random_state=42), dt_params),\n",
        "    'Random Forest': (RandomForestClassifier(random_state=42), rf_params),\n",
        "    'SVC': (SVC(random_state=42), svc_params)\n",
        "}"
      ],
      "metadata": {
        "id": "Txpwf-7wk5UF"
      },
      "execution_count": 15,
      "outputs": []
    },
    {
      "cell_type": "markdown",
      "source": [
        "**Reasoning:**\n",
        "\n",
        "**Why Grid Search is Good as an Introductory Method:**\n",
        "- **Simplicity:** Grid search is straightforward to understand and implement. It systematically evaluates a predefined set of hyperparameters, making it accessible for beginners.\n",
        "- **Comprehensive Coverage:** If exhaustive, by searching through all possible combinations of specified hyperparameters, it ensures that the best parameter set within the grid is identified. If not, then you need to decide how long you will let it run for.\n",
        "- **Baseline Understanding:** Learning grid search provides a solid foundation for understanding hyperparameter tuning and the impact of different hyperparameters on model performance.\n",
        "\n",
        "**Why Grid Search Isn't Good for Most Parameter Tuning Problems:**\n",
        "- **Computationally Expensive:** Grid search can be very time-consuming and computationally intensive, especially with large datasets and complex models, as it evaluates all possible combinations in the grid.\n",
        "- **Inefficient with Large Grids:** When the number of hyperparameters and their possible values increase, the number of combinations grows exponentially, making grid search impractical for extensive searches.\n",
        "- **Lack of Flexibility:** Grid search does not adapt based on intermediate results, potentially wasting resources on evaluating poor combinations that could have been avoided with more adaptive methods.\n",
        "- **Suboptimal for High-Dimensional Spaces:** In high-dimensional hyperparameter spaces, grid search may miss the optimal region due to its rigid structure, whereas more advanced methods like random search or Bayesian optimization can explore the space more effectively."
      ],
      "metadata": {
        "id": "vyL18p49XvrO"
      }
    },
    {
      "cell_type": "code",
      "source": [
        "# Perform hyperparameter tuning and evaluate each model\n",
        "performance_metrics = []\n",
        "for model_name, (model, params) in models.items():\n",
        "    grid_search = GridSearchCV(model, params, cv=5, scoring='accuracy')\n",
        "    grid_search.fit(X_train_scaled, y_train)\n",
        "    best_model = grid_search.best_estimator_\n",
        "    y_pred = best_model.predict(X_test_scaled)\n",
        "\n",
        "    # Collect performance metrics\n",
        "    metrics = {\n",
        "        'Model': model_name,\n",
        "        'Accuracy': accuracy_score(y_test, y_pred),\n",
        "        'Precision': precision_score(y_test, y_pred),\n",
        "        'Recall': recall_score(y_test, y_pred),\n",
        "        'F1 Score': f1_score(y_test, y_pred),\n",
        "        'ROC AUC': roc_auc_score(y_test, y_pred)\n",
        "    }\n",
        "    performance_metrics.append(metrics)"
      ],
      "metadata": {
        "id": "yX3P4UGfk-Td"
      },
      "execution_count": 16,
      "outputs": []
    },
    {
      "cell_type": "markdown",
      "source": [
        "### Model evaluation"
      ],
      "metadata": {
        "id": "E8jIA9FDdrCA"
      }
    },
    {
      "cell_type": "code",
      "source": [
        "# to print it cleanly, we'll use tabulate\n",
        "from tabulate import tabulate\n",
        "\n",
        "# Convert the list of dictionaries to a pandas DataFrame\n",
        "df = pd.DataFrame(performance_metrics)\n",
        "\n",
        "# Reorder columns to put 'Model' first\n",
        "columns = ['Model', 'Accuracy', 'Precision', 'Recall', 'F1 Score', 'ROC AUC']\n",
        "df = df[columns]\n",
        "\n",
        "# Format numeric columns to display 4 decimal places\n",
        "numeric_columns = ['Accuracy', 'Precision', 'Recall', 'F1 Score', 'ROC AUC']\n",
        "for col in numeric_columns:\n",
        "    df[col] = df[col].apply(lambda x: f'{x:.4f}')\n",
        "\n",
        "# Create a formatted table\n",
        "table = tabulate(df, headers='keys', tablefmt='pretty', showindex=False)\n",
        "\n",
        "print(table)"
      ],
      "metadata": {
        "colab": {
          "base_uri": "https://localhost:8080/"
        },
        "id": "NWRaZzOOYm75",
        "outputId": "e46d8b79-f5b8-4d84-8a55-a80fbb272e08"
      },
      "execution_count": 19,
      "outputs": [
        {
          "output_type": "stream",
          "name": "stdout",
          "text": [
            "+---------------------+----------+-----------+--------+----------+---------+\n",
            "|        Model        | Accuracy | Precision | Recall | F1 Score | ROC AUC |\n",
            "+---------------------+----------+-----------+--------+----------+---------+\n",
            "| Logistic Regression |  0.9912  |  0.9861   | 1.0000 |  0.9930  | 0.9884  |\n",
            "|    Decision Tree    |  0.9474  |  0.9452   | 0.9718 |  0.9583  | 0.9394  |\n",
            "|    Random Forest    |  0.9649  |  0.9589   | 0.9859 |  0.9722  | 0.9581  |\n",
            "|         SVC         |  0.9825  |  0.9726   | 1.0000 |  0.9861  | 0.9767  |\n",
            "+---------------------+----------+-----------+--------+----------+---------+\n"
          ]
        }
      ]
    },
    {
      "cell_type": "code",
      "source": [
        "# Visualization:\n",
        "\n",
        "performance_df = pd.DataFrame(performance_metrics)\n",
        "\n",
        "# prepare data for seaborn\n",
        "melted_df = performance_df.melt(id_vars=\"Model\", var_name=\"Metric\", value_name=\"Value\")\n",
        "sns.set(style=\"whitegrid\", palette=\"muted\")\n",
        "\n",
        "plt.figure(figsize=(14, 8))\n",
        "barplot = sns.barplot(data=melted_df, x='Metric', y='Value', hue='Model')\n",
        "plt.title('Model Performance Comparison Across Different Metrics')\n",
        "plt.ylabel('Score')\n",
        "plt.xlabel('Performance Metrics')\n",
        "plt.legend(title='Model', loc='upper left', bbox_to_anchor=(1, 1))\n",
        "plt.show()\n"
      ],
      "metadata": {
        "id": "k4tkNtV2k-kp",
        "colab": {
          "base_uri": "https://localhost:8080/",
          "height": 727
        },
        "outputId": "e9023b33-7a97-4547-e099-83cb18dcc810"
      },
      "execution_count": 18,
      "outputs": [
        {
          "output_type": "display_data",
          "data": {
            "text/plain": [
              "<Figure size 1400x800 with 1 Axes>"
            ],
            "image/png": "[encoded data removed]"
          },
          "metadata": {}
        }
      ]
    },
    {
      "cell_type": "markdown",
      "source": [
        "## Machine Learning Metrics\n",
        "\n",
        "### Accuracy\n",
        "**Description:**  \n",
        "Accuracy is the ratio of correctly predicted instances to the total instances. It is a commonly used metric for classification problems, indicating the overall correctness of the model.\n",
        "\n",
        "**Formula:**  \n",
        "Accuracy = (True Positives + True Negatives) / Total Number of Instances\n",
        "\n",
        "### Precision\n",
        "**Description:**  \n",
        "Precision is the ratio of correctly predicted positive instances to the total predicted positive instances. It measures the accuracy of positive predictions.\n",
        "\n",
        "**Formula:**  \n",
        "Precision = True Positives / (True Positives + False Positives)\n",
        "\n",
        "### Recall\n",
        "**Description:**  \n",
        "Recall (or Sensitivity) is the ratio of correctly predicted positive instances to all actual positive instances. It measures the model's ability to identify positive instances.\n",
        "\n",
        "**Formula:**  \n",
        "Recall = True Positives / (True Positives + False Negatives)\n",
        "\n",
        "### F1 Score\n",
        "**Description:**  \n",
        "The F1 Score is the harmonic mean of precision and recall. It provides a single metric that balances both the concerns of precision and recall, making it useful when you need a balance between the two.\n",
        "\n",
        "**Formula:**  \n",
        "F1 Score = 2 * (Precision * Recall) / (Precision + Recall)\n",
        "\n",
        "### ROC AUC\n",
        "**Description:**  \n",
        "ROC AUC (Receiver Operating Characteristic - Area Under Curve) measures the performance of a classification model by plotting the true positive rate (TPR) against the false positive rate (FPR) at various threshold settings. The AUC represents the degree of separability, indicating how well the model distinguishes between classes. A higher AUC value indicates better model performance.\n",
        "\n",
        "**Formulas:**\n",
        "\n",
        "1. **Trapezoidal Rule:**\n",
        "AUC = Σ [(x_{i+1} - x_i) * (y_{i+1} + y_i) / 2]\n",
        "   where x_i and y_i are the coordinates of the ROC curve points.\n",
        "\n",
        "2. **Mann–Whitney U Statistic:**\n",
        "AUC = (Σ R_{+} - (n_{+} * (n_{+} + 1) / 2)) / (n_{+} * n_{-})\n",
        "   where R_{+} is the sum of the ranks for the positive class, n_{+} is the number of positive instances, and n_{-} is the number of negative instances."
      ],
      "metadata": {
        "id": "s-GJlcITaMtc"
      }
    },
    {
      "cell_type": "markdown",
      "source": [
        "## Conclusion\n",
        "\n",
        "Congratulations! You've reached the end of this lab on classification. Throughout this exercise, you've successfully:\n",
        "\n",
        "1. Loaded the Breast Cancer Wisconsin (Diagnostic) dataset\n",
        "2. Split the data into training and testing sets\n",
        "3. Scaled the features using StandardScaler\n",
        "4. Implemented and tuned four different classification models:\n",
        "   - Logistic Regression\n",
        "   - Decision Tree\n",
        "   - Random Forest\n",
        "   - Support Vector Machine (SVM)\n",
        "5. Performed hyperparameter tuning using GridSearchCV\n",
        "6. Evaluated each model using multiple performance metrics:\n",
        "   - Accuracy\n",
        "   - Precision\n",
        "   - Recall\n",
        "   - F1 Score\n",
        "   - ROC AUC\n",
        "7. Visualized the performance comparison across different metrics and models\n",
        "\n",
        "This lab has provided you with hands-on experience in implementing and comparing various classification algorithms, as well as understanding different evaluation metrics for machine learning models."
      ],
      "metadata": {
        "id": "3FUdJ8AQ_kZO"
      }
    }
  ]
}